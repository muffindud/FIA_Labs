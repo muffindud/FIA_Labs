{
 "cells": [
  {
   "cell_type": "markdown",
   "metadata": {},
   "source": [
    "***Fundamentals of Artificial Intelligence***\n",
    "\n",
    "> **Lab 5:** *Processing Images with OpenCV and CNNs* <br>\n",
    "\n",
    "> **Performed by:** *Corneliu Catlabuga*, group *FAF-213* <br>\n",
    "\n",
    "> **Verified by:** Elena Graur, asist. univ."
   ]
  },
  {
   "cell_type": "markdown",
   "metadata": {},
   "source": [
    "### Task 1\n",
    "\n",
    "- Using OpenCV, write a function to blur an image. Adjust the parameters and explain your approach. Plot the initial image and the blurred one in the same plot using Matplotlib subplots.\n",
    "- Using OpenCV, write a function to sharpen an image. Adjust the parameters and explain your approach. Plot the initial image and the sharpened one in the same plot using Matplotlib subplots."
   ]
  },
  {
   "cell_type": "markdown",
   "metadata": {},
   "source": [
    "### Task 2\n",
    "\n",
    "mplement a face detection system using OpenCV. The function should take as input one image, and output the result as the coordinates of the face in case the image contains a face. If the image does not contain any faces, return None. Assume that the image contains no more than one face."
   ]
  },
  {
   "cell_type": "markdown",
   "metadata": {},
   "source": [
    "### Task 3\n",
    "\n",
    "Implement a system that detects whether a photo is accepted for a passport or not, by using OpenCV. You can be creative in determining the optimal strategy, but the system should follow the provided requirements:\n",
    "- the photo should be colour; Hint: you can check that by comparing RGB values of all the pixels; if the image is a greyscale image then (R=G=B) for each pixel\n",
    "- the photo should be in portrait orientation or square (assume that the image given as input is not rotated); Hint: you can use image height and width ratio\n",
    "- the eyes of the subject should be at the same level (with a max. error of 5 pixels);\n",
    "- the photo should contain only one person;\n",
    "- the head should represent 20% to 50% of the area of the photo;\n",
    "- there are no requirements regarding the background of the photo."
   ]
  },
  {
   "cell_type": "markdown",
   "metadata": {},
   "source": [
    "### Task 4\n",
    "\n",
    "Download the provided image dataset and unzip it in the same folder as this notebook. You can use the images folder as data and the labels.csv file for the labels. Split your data into 3 parts the train, the validation and test sets.\n",
    "\n",
    "*Note: while it is not a strict rule, you are encouraged to use the split of 65% for the train, 20% for the validation, and 15% for the test; you can adjust it later for better performance.*"
   ]
  },
  {
   "cell_type": "markdown",
   "metadata": {},
   "source": [
    "### Task 5\n",
    "\n",
    "Using Tensorflow or PyTorch, develop a CNN model that will learn how to classify the images as accepted or not for passport photos (binary classifier). Train your model on the train set. It is encouraged to use the validation set for hyperparameter optimization.\n",
    "*Hint: look and research what activation functions are used for binary classification (for the last layer).*"
   ]
  },
  {
   "cell_type": "markdown",
   "metadata": {},
   "source": [
    "### Task 6\n",
    "\n",
    "Test how well your OpenCV and CNN systems perform on a test dataset. You are required to apply your systems to all the images in the test set, and then compute the accuracy for both solutions. Calculate the accuracy of your system on the test dataset by using the formula:\n",
    "$$\n",
    "\\text{accuracy} = \\frac{\\text{nr\\_correct\\_detected\\_images}}{\\text{total\\_nr\\_of\\_test\\_images}}\n",
    "$$"
   ]
  },
  {
   "cell_type": "markdown",
   "metadata": {},
   "source": [
    "### Task 7\n",
    "\n",
    "Elaborate on conclusions. Make sure to cover the following questions:\n",
    "- Which approach performs better on this task and why?\n",
    "- Is it useful to use a CNN for this task? Why?\n",
    "- How can you improve the results obtained with the CNN?\n",
    "- What can you say about the dataset?\n",
    "- Do you think such systems would work in a real-life scenario?\n",
    "- What approaches can be used to obtain more data?"
   ]
  }
 ],
 "metadata": {
  "kernelspec": {
   "display_name": "venv",
   "language": "python",
   "name": "python3"
  },
  "language_info": {
   "name": "python",
   "version": "3.12.3"
  }
 },
 "nbformat": 4,
 "nbformat_minor": 2
}
