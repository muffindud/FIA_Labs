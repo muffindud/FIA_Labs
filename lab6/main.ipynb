{
 "cells": [
  {
   "cell_type": "markdown",
   "metadata": {},
   "source": [
    "***Fundamentals of Artificial Intelligence***\n",
    "\n",
    "> **Lab 6:** *Natural Language Processing and Chat Bots* <br>\n",
    "\n",
    "> **Performed by:** *Corneliu Catlabuga*, group *FAF-213* <br>\n",
    "\n",
    "> **Verified by:** Elena Graur, asist. univ."
   ]
  },
  {
   "cell_type": "markdown",
   "metadata": {},
   "source": [
    "#### Imports"
   ]
  },
  {
   "cell_type": "code",
   "execution_count": 101,
   "metadata": {},
   "outputs": [],
   "source": [
    "import os\n",
    "\n",
    "import re\n",
    "\n",
    "import numpy as np\n",
    "\n",
    "import pandas as pd\n",
    "\n",
    "from collections import Counter\n",
    "\n",
    "from tqdm import tqdm\n",
    "\n",
    "import torch\n",
    "import torch.nn as nn\n",
    "import torch.optim as optim\n",
    "from torch.utils.data import DataLoader, Dataset\n",
    "\n",
    "from warnings import filterwarnings"
   ]
  },
  {
   "cell_type": "code",
   "execution_count": 102,
   "metadata": {},
   "outputs": [
    {
     "name": "stdout",
     "output_type": "stream",
     "text": [
      "Running on cpu\n"
     ]
    }
   ],
   "source": [
    "filterwarnings('ignore')\n",
    "device = torch.device('cuda' if torch.cuda.is_available() else 'cpu')\n",
    "print(f\"Running on {device}\")"
   ]
  },
  {
   "cell_type": "markdown",
   "metadata": {},
   "source": [
    "#### Task 1\n",
    "\n",
    "Set up the Telegram Bot. Interact with BotFather on Telegram to obtain an API token. Create your Telegram Bot (its name should follow the pattern FIA_Surname_Name_FAF_21x). Make sure you are able to receive and send requests to it.\n",
    "\n",
    "1. Bot link: [FIA_Catlabuga_Corneliu_FAF_213](https://t.me/FAFCatlabugaCorneliuFAF213bot)\n",
    "\n",
    "2. Run `app.py` to start the bot."
   ]
  },
  {
   "cell_type": "markdown",
   "metadata": {},
   "source": [
    "#### Task 2\n",
    "\n",
    "Create a dataset that will serve as a training set for your model. It should follow the rules:\n",
    "- an entry consists of two parts: the question and the answer;\n",
    "- there are at least 75 entries written by you in your dataset;\n",
    "- questions should be something tourists or locals can ask about a new city.\n",
    "\n",
    "You can increase your dataset by adding open-source data. However, you MUST clearly show the questions written by you. Split your dataset into train and validation.\n",
    "\n",
    "*Hint: it is recommended to split it into 80% and 20%, but you can adjust it according to your needs.*"
   ]
  },
  {
   "cell_type": "markdown",
   "metadata": {},
   "source": [
    "#### Dataset"
   ]
  },
  {
   "cell_type": "code",
   "execution_count": 103,
   "metadata": {},
   "outputs": [],
   "source": [
    "dataset = pd.read_csv('dataset.csv')\n",
    "\n",
    "questions = dataset['question'].astype(str).tolist()\n",
    "answers = dataset['answer'].astype(str).tolist()\n",
    "\n",
    "\n",
    "def clean_text(text: str) -> str:\n",
    "    text = text.lower()\n",
    "    text = re.sub(r\"[^a-zA-Z0-9?.!,']\", \" \", text)\n",
    "    return text.strip()\n",
    "\n",
    "questions = [clean_text(question) for question in questions]\n",
    "answers = [clean_text(answer) for answer in answers]"
   ]
  },
  {
   "cell_type": "markdown",
   "metadata": {},
   "source": [
    "#### Task 3\n",
    "\n",
    "Use Tensorflow or Pytorch to implement the architecture of the Neural Network you are planning to use. It is highly recommended to use a Seq2Seq model (implement an LSTM or GRU architecture). You are NOT allowed to use pre-built or existing solutions (yep, connecting to GPT will not work)."
   ]
  },
  {
   "cell_type": "code",
   "execution_count": 104,
   "metadata": {},
   "outputs": [],
   "source": [
    "def tokenize(text: str) -> list:\n",
    "    return text.split()\n",
    "\n",
    "def build_vocab(texts: list) -> dict:\n",
    "    tokens = [token for sentence in texts for token in tokenize(sentence)]\n",
    "    freq = Counter(tokens)\n",
    "    vocab = {word: idx+2 for idx, (word, _) in enumerate(freq.most_common())}\n",
    "    vocab['<UNK>'] = 0\n",
    "    vocab['<PAD>'] = 1\n",
    "    return vocab"
   ]
  },
  {
   "cell_type": "code",
   "execution_count": 105,
   "metadata": {},
   "outputs": [],
   "source": [
    "def vectorize(sentences, vocab, max_len):\n",
    "    vectors = []\n",
    "    for sentence in sentences:\n",
    "        tokens = tokenize(sentence)\n",
    "        vector = [vocab.get(token, vocab['<UNK>']) for token in tokens]\n",
    "        if len(vector) < max_len:\n",
    "            vector += [vocab['<PAD>']] * (max_len - len(vector))\n",
    "        else:\n",
    "            vector = vector[:max_len]\n",
    "        vectors.append(vector)\n",
    "    return np.array(vectors)"
   ]
  },
  {
   "cell_type": "code",
   "execution_count": 106,
   "metadata": {},
   "outputs": [],
   "source": [
    "question_vocab = build_vocab(questions)\n",
    "answer_vocab = build_vocab(answers)\n",
    "\n",
    "idx_to_word = {idx: word for word, idx in question_vocab.items()}\n",
    "\n",
    "MAX_LEN_Q = 20\n",
    "MAX_LEN_A = 20\n",
    "\n",
    "questions_vec = vectorize(questions, question_vocab, MAX_LEN_Q)\n",
    "answers_vec = vectorize(answers, answer_vocab, MAX_LEN_A)"
   ]
  },
  {
   "cell_type": "markdown",
   "metadata": {},
   "source": [
    "#### Task 4\n",
    "\n",
    "Train your model and fine-tune it based on the chosen performance metrics."
   ]
  },
  {
   "cell_type": "code",
   "execution_count": 107,
   "metadata": {},
   "outputs": [],
   "source": [
    "class QADataset(Dataset):\n",
    "    def __init__(self, questions, answers):\n",
    "        self.questions = questions\n",
    "        self.answers = answers\n",
    "\n",
    "    def __len__(self):\n",
    "        return len(self.questions)\n",
    "\n",
    "    def __getitem__(self, idx):\n",
    "        return torch.tensor(self.questions[idx], dtype=torch.long), torch.tensor(self.answers[idx], dtype=torch.long)"
   ]
  },
  {
   "cell_type": "code",
   "execution_count": 108,
   "metadata": {},
   "outputs": [],
   "source": [
    "class Encoder(nn.Module):\n",
    "    def __init__(self, input_dim, embed_dim, hidden_dim, n_layers):\n",
    "        super().__init__()\n",
    "        self.embedding = nn.Embedding(input_dim, embed_dim)\n",
    "        self.rnn = nn.LSTM(embed_dim, hidden_dim, n_layers, batch_first=True)\n",
    "        self.hidden_dim = hidden_dim\n",
    "\n",
    "    def forward(self, x):\n",
    "        embedded = self.embedding(x)\n",
    "        outputs, (hidden, cell) = self.rnn(embedded)\n",
    "        return hidden, cell"
   ]
  },
  {
   "cell_type": "code",
   "execution_count": 109,
   "metadata": {},
   "outputs": [],
   "source": [
    "class Decoder(nn.Module):\n",
    "    def __init__(self, output_dim, embed_dim, hidden_dim, n_layers):\n",
    "        super().__init__()\n",
    "        self.embedding = nn.Embedding(output_dim, embed_dim)\n",
    "        self.rnn = nn.LSTM(embed_dim, hidden_dim, n_layers, batch_first=True)\n",
    "        self.fc = nn.Linear(hidden_dim, output_dim)\n",
    "\n",
    "    def forward(self, x, hidden, cell):\n",
    "        x = x.unsqueeze(1)\n",
    "        embedded = self.embedding(x)\n",
    "        outputs, (hidden, cell) = self.rnn(embedded, (hidden, cell))\n",
    "        predictions = self.fc(outputs.squeeze(1))\n",
    "        return predictions, hidden, cell"
   ]
  },
  {
   "cell_type": "code",
   "execution_count": 110,
   "metadata": {},
   "outputs": [],
   "source": [
    "class Seq2Seq(nn.Module):\n",
    "    def __init__(self, encoder, decoder):\n",
    "        super().__init__()\n",
    "        self.encoder = encoder\n",
    "        self.decoder = decoder\n",
    "\n",
    "    def forward(self, src, trg, teacher_forcing_ratio=0.5):\n",
    "        batch_size = src.shape[0]\n",
    "        trg_len = trg.shape[1]\n",
    "        trg_vocab_size = self.decoder.fc.out_features\n",
    "\n",
    "        outputs = torch.zeros(batch_size, trg_len, trg_vocab_size).to(src.device)\n",
    "\n",
    "        hidden, cell = self.encoder(src)\n",
    "\n",
    "        input = trg[:, 0]\n",
    "        for t in range(1, trg_len):\n",
    "            output, hidden, cell = self.decoder(input, hidden, cell)\n",
    "            outputs[:, t, :] = output\n",
    "            top1 = output.argmax(1)\n",
    "            input = trg[:, t] if np.random.random() < teacher_forcing_ratio else top1\n",
    "\n",
    "        return outputs"
   ]
  },
  {
   "cell_type": "code",
   "execution_count": 111,
   "metadata": {},
   "outputs": [],
   "source": [
    "train_dataset = QADataset(questions_vec, answers_vec)\n",
    "train_loader = DataLoader(train_dataset, batch_size=32, shuffle=True)"
   ]
  },
  {
   "cell_type": "code",
   "execution_count": 112,
   "metadata": {},
   "outputs": [],
   "source": [
    "def train(epochs: int = 10, output_path: str = \"./output.pth\") -> None:\n",
    "    INPUT_DIM = len(question_vocab)\n",
    "    OUTPUT_DIM = len(answer_vocab)\n",
    "    EMBED_DIM = 256\n",
    "    HIDDEN_DIM = 512\n",
    "    N_LAYERS = 2\n",
    "\n",
    "    encoder = Encoder(INPUT_DIM, EMBED_DIM, HIDDEN_DIM, N_LAYERS)\n",
    "    decoder = Decoder(OUTPUT_DIM, EMBED_DIM, HIDDEN_DIM, N_LAYERS)\n",
    "    model = Seq2Seq(encoder, decoder).to(device)\n",
    "\n",
    "    criterion = nn.CrossEntropyLoss(ignore_index=answer_vocab['<PAD>'])\n",
    "    optimizer = optim.Adam(model.parameters(), lr=0.001)\n",
    "\n",
    "    for epoch in range(epochs):\n",
    "        model.train()\n",
    "        epoch_loss = 0\n",
    "        loop = tqdm(train_loader)\n",
    "        for questions, answers in loop:\n",
    "            loop.set_description(f'Epoch {epoch+1}/{epochs}')\n",
    "            questions, answers = questions.to(device), answers.to(device)\n",
    "\n",
    "            optimizer.zero_grad()\n",
    "            output = model(questions, answers)\n",
    "            output_dim = output.shape[-1]\n",
    "\n",
    "            output = output[:, 1:].reshape(-1, output_dim)\n",
    "            answers = answers[:, 1:].reshape(-1)\n",
    "\n",
    "            loss = criterion(output, answers)\n",
    "            loss.backward()\n",
    "            optimizer.step()\n",
    "\n",
    "            epoch_loss += loss.item()\n",
    "\n",
    "            loop.set_postfix(loss=epoch_loss/len(train_loader))\n",
    "\n",
    "    os.makedirs('models', exist_ok=True)\n",
    "    torch.save(model.state_dict(), f\"./models/{output_path}\")"
   ]
  },
  {
   "cell_type": "code",
   "execution_count": 113,
   "metadata": {},
   "outputs": [
    {
     "name": "stderr",
     "output_type": "stream",
     "text": [
      "Epoch 1/50:   0%|          | 0/3 [00:00<?, ?it/s]"
     ]
    },
    {
     "name": "stderr",
     "output_type": "stream",
     "text": [
      "Epoch 1/50: 100%|██████████| 3/3 [00:02<00:00,  1.01it/s, loss=5.96]\n",
      "Epoch 2/50: 100%|██████████| 3/3 [00:02<00:00,  1.11it/s, loss=5.53]\n",
      "Epoch 3/50: 100%|██████████| 3/3 [00:02<00:00,  1.11it/s, loss=5.28]\n",
      "Epoch 4/50: 100%|██████████| 3/3 [00:02<00:00,  1.11it/s, loss=5.16]\n",
      "Epoch 5/50: 100%|██████████| 3/3 [00:02<00:00,  1.12it/s, loss=5.05]\n",
      "Epoch 6/50: 100%|██████████| 3/3 [00:02<00:00,  1.11it/s, loss=4.94]\n",
      "Epoch 7/50: 100%|██████████| 3/3 [00:02<00:00,  1.12it/s, loss=4.87]\n",
      "Epoch 8/50: 100%|██████████| 3/3 [00:02<00:00,  1.17it/s, loss=4.79]\n",
      "Epoch 9/50: 100%|██████████| 3/3 [00:02<00:00,  1.12it/s, loss=4.73]\n",
      "Epoch 10/50: 100%|██████████| 3/3 [00:02<00:00,  1.15it/s, loss=4.63]\n",
      "Epoch 11/50: 100%|██████████| 3/3 [00:02<00:00,  1.12it/s, loss=4.53]\n",
      "Epoch 12/50: 100%|██████████| 3/3 [00:02<00:00,  1.16it/s, loss=4.47]\n",
      "Epoch 13/50: 100%|██████████| 3/3 [00:02<00:00,  1.14it/s, loss=4.37]\n",
      "Epoch 14/50: 100%|██████████| 3/3 [00:02<00:00,  1.15it/s, loss=4.33]\n",
      "Epoch 15/50: 100%|██████████| 3/3 [00:02<00:00,  1.17it/s, loss=4.21]\n",
      "Epoch 16/50: 100%|██████████| 3/3 [00:02<00:00,  1.16it/s, loss=4.07]\n",
      "Epoch 17/50: 100%|██████████| 3/3 [00:02<00:00,  1.24it/s, loss=4.03]\n",
      "Epoch 18/50: 100%|██████████| 3/3 [00:02<00:00,  1.20it/s, loss=3.92]\n",
      "Epoch 19/50: 100%|██████████| 3/3 [00:02<00:00,  1.15it/s, loss=3.77]\n",
      "Epoch 20/50: 100%|██████████| 3/3 [00:02<00:00,  1.23it/s, loss=3.71]\n",
      "Epoch 21/50: 100%|██████████| 3/3 [00:02<00:00,  1.17it/s, loss=3.62]\n",
      "Epoch 22/50: 100%|██████████| 3/3 [00:02<00:00,  1.20it/s, loss=3.53]\n",
      "Epoch 23/50: 100%|██████████| 3/3 [00:02<00:00,  1.10it/s, loss=3.37]\n",
      "Epoch 24/50: 100%|██████████| 3/3 [00:02<00:00,  1.11it/s, loss=3.35]\n",
      "Epoch 25/50: 100%|██████████| 3/3 [00:02<00:00,  1.12it/s, loss=3.19]\n",
      "Epoch 26/50: 100%|██████████| 3/3 [00:02<00:00,  1.10it/s, loss=3.07]\n",
      "Epoch 27/50: 100%|██████████| 3/3 [00:02<00:00,  1.14it/s, loss=2.98] \n",
      "Epoch 28/50: 100%|██████████| 3/3 [00:02<00:00,  1.17it/s, loss=2.85] \n",
      "Epoch 29/50: 100%|██████████| 3/3 [00:02<00:00,  1.11it/s, loss=2.75] \n",
      "Epoch 30/50: 100%|██████████| 3/3 [00:02<00:00,  1.23it/s, loss=2.79] \n",
      "Epoch 31/50: 100%|██████████| 3/3 [00:02<00:00,  1.19it/s, loss=2.53] \n",
      "Epoch 32/50: 100%|██████████| 3/3 [00:02<00:00,  1.17it/s, loss=2.51] \n",
      "Epoch 33/50: 100%|██████████| 3/3 [00:02<00:00,  1.09it/s, loss=2.33]\n",
      "Epoch 34/50: 100%|██████████| 3/3 [00:02<00:00,  1.11it/s, loss=2.4]  \n",
      "Epoch 35/50: 100%|██████████| 3/3 [00:02<00:00,  1.12it/s, loss=2.22] \n",
      "Epoch 36/50: 100%|██████████| 3/3 [00:02<00:00,  1.19it/s, loss=1.96] \n",
      "Epoch 37/50: 100%|██████████| 3/3 [00:02<00:00,  1.19it/s, loss=1.86] \n",
      "Epoch 38/50: 100%|██████████| 3/3 [00:02<00:00,  1.13it/s, loss=1.82] \n",
      "Epoch 39/50: 100%|██████████| 3/3 [00:02<00:00,  1.14it/s, loss=1.67] \n",
      "Epoch 40/50: 100%|██████████| 3/3 [00:02<00:00,  1.15it/s, loss=1.53] \n",
      "Epoch 41/50: 100%|██████████| 3/3 [00:02<00:00,  1.10it/s, loss=1.42] \n",
      "Epoch 42/50: 100%|██████████| 3/3 [00:02<00:00,  1.10it/s, loss=1.64] \n",
      "Epoch 43/50: 100%|██████████| 3/3 [00:02<00:00,  1.10it/s, loss=1.22] \n",
      "Epoch 44/50: 100%|██████████| 3/3 [00:02<00:00,  1.07it/s, loss=1.17] \n",
      "Epoch 45/50: 100%|██████████| 3/3 [00:02<00:00,  1.11it/s, loss=1.12] \n",
      "Epoch 46/50: 100%|██████████| 3/3 [00:02<00:00,  1.09it/s, loss=1.2]  \n",
      "Epoch 47/50: 100%|██████████| 3/3 [00:02<00:00,  1.07it/s, loss=1.01] \n",
      "Epoch 48/50: 100%|██████████| 3/3 [00:02<00:00,  1.09it/s, loss=0.903]\n",
      "Epoch 49/50: 100%|██████████| 3/3 [00:02<00:00,  1.12it/s, loss=0.801]\n",
      "Epoch 50/50: 100%|██████████| 3/3 [00:02<00:00,  1.14it/s, loss=0.801]\n"
     ]
    }
   ],
   "source": [
    "train(50, \"./output50.pth\")"
   ]
  },
  {
   "cell_type": "markdown",
   "metadata": {},
   "source": [
    "#### Task 5\n",
    "\n",
    "Integrate your model into your Telegram ChatBot, so that the sent messages are taken as input by the model and its output is sent back as a reply."
   ]
  },
  {
   "cell_type": "code",
   "execution_count": 129,
   "metadata": {},
   "outputs": [],
   "source": [
    "model_path = \"./models/output50.pth\"\n",
    "\n",
    "encoder = Encoder(len(question_vocab), 256, 512, 2).to(device)\n",
    "decoder = Decoder(len(answer_vocab), 256, 512, 2).to(device)\n",
    "model = Seq2Seq(encoder, decoder).to(device)\n",
    "\n",
    "model.load_state_dict(torch.load(model_path))\n",
    "model.eval()\n",
    "\n",
    "def decode_output(output, idx_to_word):\n",
    "    tokens = [idx_to_word[idx] for idx in output if idx != answer_vocab['<PAD>']]\n",
    "    return ' '.join(tokens)\n",
    "\n",
    "def answer(question: str) -> str:\n",
    "    question = clean_text(question)\n",
    "    question_vec = vectorize([question], question_vocab, MAX_LEN_Q)\n",
    "    question_tensor = torch.tensor(question_vec, dtype=torch.long).to(device)\n",
    "\n",
    "    with torch.no_grad():\n",
    "        hidden, cell = model.encoder(question_tensor)\n",
    "        input = torch.tensor([answer_vocab['<PAD>']], dtype=torch.long).to(device)\n",
    "        answer = []\n",
    "        for _ in range(MAX_LEN_A):\n",
    "            output, hidden, cell = model.decoder(input, hidden, cell)\n",
    "            top1 = output.argmax(1)\n",
    "            answer.append(top1.item())\n",
    "            input = top1\n",
    "\n",
    "            if top1.item() == answer_vocab['<PAD>']:\n",
    "                break\n",
    "\n",
    "    predicted_answer = decode_output(answer, idx_to_word)\n",
    "    return predicted_answer"
   ]
  },
  {
   "cell_type": "code",
   "execution_count": 131,
   "metadata": {},
   "outputs": [
    {
     "ename": "KeyError",
     "evalue": "282",
     "output_type": "error",
     "traceback": [
      "\u001b[0;31m---------------------------------------------------------------------------\u001b[0m",
      "\u001b[0;31mKeyError\u001b[0m                                  Traceback (most recent call last)",
      "Cell \u001b[0;32mIn[131], line 1\u001b[0m\n\u001b[0;32m----> 1\u001b[0m \u001b[38;5;28mprint\u001b[39m(\u001b[43manswer\u001b[49m\u001b[43m(\u001b[49m\u001b[38;5;124;43m\"\u001b[39;49m\u001b[38;5;124;43mIs Plutan restaurant kid-friendly?\u001b[39;49m\u001b[38;5;124;43m\"\u001b[39;49m\u001b[43m)\u001b[49m)\n",
      "Cell \u001b[0;32mIn[129], line 32\u001b[0m, in \u001b[0;36manswer\u001b[0;34m(question)\u001b[0m\n\u001b[1;32m     29\u001b[0m         \u001b[38;5;28;01mif\u001b[39;00m top1\u001b[38;5;241m.\u001b[39mitem() \u001b[38;5;241m==\u001b[39m answer_vocab[\u001b[38;5;124m'\u001b[39m\u001b[38;5;124m<PAD>\u001b[39m\u001b[38;5;124m'\u001b[39m]:\n\u001b[1;32m     30\u001b[0m             \u001b[38;5;28;01mbreak\u001b[39;00m\n\u001b[0;32m---> 32\u001b[0m predicted_answer \u001b[38;5;241m=\u001b[39m \u001b[43mdecode_output\u001b[49m\u001b[43m(\u001b[49m\u001b[43manswer\u001b[49m\u001b[43m,\u001b[49m\u001b[43m \u001b[49m\u001b[43midx_to_word\u001b[49m\u001b[43m)\u001b[49m\n\u001b[1;32m     33\u001b[0m \u001b[38;5;28;01mreturn\u001b[39;00m predicted_answer\n",
      "Cell \u001b[0;32mIn[129], line 11\u001b[0m, in \u001b[0;36mdecode_output\u001b[0;34m(output, idx_to_word)\u001b[0m\n\u001b[1;32m     10\u001b[0m \u001b[38;5;28;01mdef\u001b[39;00m \u001b[38;5;21mdecode_output\u001b[39m(output, idx_to_word):\n\u001b[0;32m---> 11\u001b[0m     tokens \u001b[38;5;241m=\u001b[39m [\u001b[43midx_to_word\u001b[49m\u001b[43m[\u001b[49m\u001b[43midx\u001b[49m\u001b[43m]\u001b[49m \u001b[38;5;28;01mfor\u001b[39;00m idx \u001b[38;5;129;01min\u001b[39;00m output \u001b[38;5;28;01mif\u001b[39;00m idx \u001b[38;5;241m!=\u001b[39m answer_vocab[\u001b[38;5;124m'\u001b[39m\u001b[38;5;124m<PAD>\u001b[39m\u001b[38;5;124m'\u001b[39m]]\n\u001b[1;32m     12\u001b[0m     \u001b[38;5;28;01mreturn\u001b[39;00m \u001b[38;5;124m'\u001b[39m\u001b[38;5;124m \u001b[39m\u001b[38;5;124m'\u001b[39m\u001b[38;5;241m.\u001b[39mjoin(tokens)\n",
      "\u001b[0;31mKeyError\u001b[0m: 282"
     ]
    }
   ],
   "source": [
    "print(answer(\"Is Plutan restaurant kid-friendly?\"))"
   ]
  },
  {
   "cell_type": "markdown",
   "metadata": {},
   "source": [
    "#### Task 6\n",
    "\n",
    "Handle potential errors that may occur, such as model errors or invalid inputs."
   ]
  }
 ],
 "metadata": {
  "kernelspec": {
   "display_name": "venv",
   "language": "python",
   "name": "python3"
  },
  "language_info": {
   "codemirror_mode": {
    "name": "ipython",
    "version": 3
   },
   "file_extension": ".py",
   "mimetype": "text/x-python",
   "name": "python",
   "nbconvert_exporter": "python",
   "pygments_lexer": "ipython3",
   "version": "3.12.3"
  }
 },
 "nbformat": 4,
 "nbformat_minor": 2
}
