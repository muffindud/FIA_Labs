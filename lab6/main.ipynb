{
 "cells": [
  {
   "cell_type": "markdown",
   "metadata": {},
   "source": [
    "***Fundamentals of Artificial Intelligence***\n",
    "\n",
    "> **Lab 6:** *Natural Language Processing and Chat Bots* <br>\n",
    "\n",
    "> **Performed by:** *Corneliu Catlabuga*, group *FAF-213* <br>\n",
    "\n",
    "> **Verified by:** Elena Graur, asist. univ."
   ]
  },
  {
   "cell_type": "markdown",
   "metadata": {},
   "source": [
    "#### Imports"
   ]
  },
  {
   "cell_type": "code",
   "execution_count": 34,
   "metadata": {},
   "outputs": [
    {
     "name": "stdout",
     "output_type": "stream",
     "text": [
      "Using cuda\n"
     ]
    }
   ],
   "source": [
    "import os\n",
    "\n",
    "import re\n",
    "\n",
    "import numpy as np\n",
    "\n",
    "import pandas as pd\n",
    "\n",
    "from collections import Counter\n",
    "\n",
    "from tqdm import tqdm\n",
    "\n",
    "import torch\n",
    "import torch.nn as nn\n",
    "from transformers import AutoTokenizer, T5ForConditionalGeneration\n",
    "from tqdm import tqdm\n",
    "from warnings import filterwarnings\n",
    "\n",
    "filterwarnings(\"ignore\")\n",
    "device = torch.device(\"cuda\" if torch.cuda.is_available() else \"cpu\")\n",
    "print(f\"Using {device}\")"
   ]
  },
  {
   "cell_type": "markdown",
   "metadata": {},
   "source": [
    "#### Task 1\n",
    "\n",
    "Set up the Telegram Bot. Interact with BotFather on Telegram to obtain an API token. Create your Telegram Bot (its name should follow the pattern FIA_Surname_Name_FAF_21x). Make sure you are able to receive and send requests to it.\n",
    "\n",
    "1. Bot link: [FIA_Catlabuga_Corneliu_FAF_213](https://t.me/FAFCatlabugaCorneliuFAF213bot)\n",
    "\n",
    "2. Run `app.py` to start the bot."
   ]
  },
  {
   "cell_type": "markdown",
   "metadata": {},
   "source": [
    "#### Task 2\n",
    "\n",
    "Create a dataset that will serve as a training set for your model. It should follow the rules:\n",
    "- an entry consists of two parts: the question and the answer;\n",
    "- there are at least 75 entries written by you in your dataset;\n",
    "- questions should be something tourists or locals can ask about a new city.\n",
    "\n",
    "You can increase your dataset by adding open-source data. However, you MUST clearly show the questions written by you. Split your dataset into train and validation.\n",
    "\n",
    "*Hint: it is recommended to split it into 80% and 20%, but you can adjust it according to your needs.*"
   ]
  },
  {
   "cell_type": "markdown",
   "metadata": {},
   "source": [
    "#### Dataset"
   ]
  },
  {
   "cell_type": "code",
   "execution_count": 35,
   "metadata": {},
   "outputs": [],
   "source": [
    "dataset = pd.read_csv('dataset.csv')\n",
    "\n",
    "questions = dataset['question'].astype(str).tolist()\n",
    "answers = dataset['answer'].astype(str).tolist()\n",
    "\n",
    "\n",
    "def clean_text(text: str) -> str:\n",
    "    text = text.lower()\n",
    "    text = re.sub(r\"[^a-zA-Z0-9?.!,']\", \" \", text)\n",
    "    return text.strip()\n",
    "\n",
    "questions = [clean_text(question) for question in questions]\n",
    "answers = [clean_text(answer) for answer in answers]"
   ]
  },
  {
   "cell_type": "markdown",
   "metadata": {},
   "source": [
    "#### Task 3\n",
    "\n",
    "Use Tensorflow or Pytorch to implement the architecture of the Neural Network you are planning to use. It is highly recommended to use a Seq2Seq model (implement an LSTM or GRU architecture). You are NOT allowed to use pre-built or existing solutions (yep, connecting to GPT will not work)."
   ]
  },
  {
   "cell_type": "code",
   "execution_count": 36,
   "metadata": {},
   "outputs": [],
   "source": [
    "tokenizer = AutoTokenizer.from_pretrained(\"t5-base\")\n",
    "\n",
    "def build_vocab(texts: list) -> dict:\n",
    "    tokens = [token for sentence in texts for token in tokenize(sentence)]\n",
    "    freq = Counter(tokens)\n",
    "    vocab = {word: idx+2 for idx, (word, _) in enumerate(freq.most_common())}\n",
    "    vocab['<UNK>'] = 0\n",
    "    vocab['<PAD>'] = 1\n",
    "    return vocab"
   ]
  },
  {
   "cell_type": "code",
   "execution_count": 37,
   "metadata": {},
   "outputs": [],
   "source": [
    "def vectorize(sentences, vocab, max_len):\n",
    "    vectors = []\n",
    "    for sentence in sentences:\n",
    "        tokens = tokenize(sentence)\n",
    "        vector = [vocab.get(token, vocab['<UNK>']) for token in tokens]\n",
    "        if len(vector) < max_len:\n",
    "            vector += [vocab['<PAD>']] * (max_len - len(vector))\n",
    "        else:\n",
    "            vector = vector[:max_len]\n",
    "        vectors.append(vector)\n",
    "    return np.array(vectors)"
   ]
  },
  {
   "cell_type": "code",
   "execution_count": 38,
   "metadata": {},
   "outputs": [
    {
     "name": "stderr",
     "output_type": "stream",
     "text": [
      "Asking to truncate to max_length but no maximum length is provided and the model has no predefined maximum length. Default to no truncation.\n"
     ]
    }
   ],
   "source": [
    "question_vocab = build_vocab(questions)\n",
    "answer_vocab = build_vocab(answers)\n",
    "\n",
    "idx_to_word = {idx: word for word, idx in question_vocab.items()}\n",
    "\n",
    "MAX_LEN_Q = 20\n",
    "MAX_LEN_A = 20\n",
    "\n",
    "questions_vec = vectorize(questions, question_vocab, MAX_LEN_Q)\n",
    "answers_vec = vectorize(answers, answer_vocab, MAX_LEN_A)"
   ]
  },
  {
   "cell_type": "markdown",
   "metadata": {},
   "source": [
    "#### Task 4\n",
    "\n",
    "Train your model and fine-tune it based on the chosen performance metrics."
   ]
  },
  {
   "cell_type": "code",
   "execution_count": 39,
   "metadata": {},
   "outputs": [],
   "source": [
    "class Seq2SeqModel(nn.Module):\n",
    "    def __init__(self, model_name=\"t5-base\"):\n",
    "        super(Seq2SeqModel, self).__init__()\n",
    "        self.model = T5ForConditionalGeneration.from_pretrained(model_name)\n",
    "\n",
    "        return outputs"
   ]
  },
  {
   "cell_type": "code",
   "execution_count": 111,
   "metadata": {},
   "outputs": [],
   "source": [
    "train_dataset = QADataset(questions_vec, answers_vec)\n",
    "train_loader = DataLoader(train_dataset, batch_size=32, shuffle=True)"
   ]
  },
  {
   "cell_type": "code",
   "execution_count": null,
   "metadata": {},
   "outputs": [],
   "source": [
    "def train(epochs: int = 10, file_name: str = 'model.pth'):\n",
    "    model = Seq2SeqModel().to(device)\n",
    "    optimizer = optim.AdamW(model.parameters(), lr=5e-4)\n",
    "\n",
    "    for epoch in range(epochs):\n",
    "        model.train()\n",
    "        epoch_loss = 0\n",
    "        loop = tqdm(train_loader)\n",
    "        for questions, answers in loop:\n",
    "            loop.set_description(f'Epoch {epoch+1}/{epochs}')\n",
    "            questions, answers = questions.to(device), answers.to(device)\n",
    "\n",
    "        for batch in loop:\n",
    "            loop.set_description(f\"Epoch {epoch}\")\n",
    "\n",
    "            input_ids = batch['input_ids'].to(device)\n",
    "            attention_mask = batch['attention_mask'].to(device)\n",
    "            labels = batch['labels'].to(device)\n",
    "\n",
    "            output = output[:, 1:].reshape(-1, output_dim)\n",
    "            answers = answers[:, 1:].reshape(-1)\n",
    "\n",
    "            loss = criterion(output, answers)\n",
    "            loss.backward()\n",
    "            optimizer.step()\n",
    "\n",
    "            # Update progress bar\n",
    "            loop.set_postfix(loss=loss.item())\n",
    "\n",
    "    os.makedirs('models', exist_ok=True)\n",
    "    torch.save(model.state_dict(), f\"./models/{output_path}\")"
   ]
  },
  {
   "cell_type": "code",
   "execution_count": 41,
   "metadata": {},
   "outputs": [
    {
     "name": "stderr",
     "output_type": "stream",
     "text": [
      "Epoch 0: 100%|██████████| 8/8 [00:07<00:00,  1.10it/s, loss=2.14]\n",
      "Epoch 1: 100%|██████████| 8/8 [00:07<00:00,  1.11it/s, loss=1.6] \n",
      "Epoch 2: 100%|██████████| 8/8 [00:09<00:00,  1.16s/it, loss=1.22]\n",
      "Epoch 3: 100%|██████████| 8/8 [00:06<00:00,  1.23it/s, loss=0.749]\n",
      "Epoch 4: 100%|██████████| 8/8 [00:06<00:00,  1.22it/s, loss=0.668]\n"
     ]
    }
   ],
   "source": [
    "train(5, 'model5base.pth')"
   ]
  },
  {
   "cell_type": "markdown",
   "metadata": {},
   "source": [
    "#### Task 5\n",
    "\n",
    "Integrate your model into your Telegram ChatBot, so that the sent messages are taken as input by the model and its output is sent back as a reply."
   ]
  },
  {
   "cell_type": "code",
   "execution_count": null,
   "metadata": {},
   "outputs": [
    {
     "data": {
      "text/plain": [
       "'Yes, you can book a table at the Luna-City app or visit the restaurant.'"
      ]
     },
     "metadata": {},
     "output_type": "display_data"
    }
   ],
   "source": [
    "model = Seq2SeqModel().to(device)\n",
    "model.load_state_dict(torch.load('models/model5base.pth'))\n",
    "\n",
    "def generate_answer(question, model, tokenizer):\n",
    "    model.eval()\n",
    "    input_ids = tokenizer(question, return_tensors=\"pt\").input_ids.to(device)\n",
    "    output = model.model.generate(input_ids)\n",
    "\n",
    "    if output[-1] != '.':\n",
    "        return tokenizer.decode(output[0], skip_special_tokens=True) + '.'\n",
    "\n",
    "    return tokenizer.decode(output[0], skip_special_tokens=True)\n",
    "\n",
    "# Test example\n",
    "test_question = \"Can I book a table at DeMars in advance?\"\n",
    "display(generate_answer(test_question, model, tokenizer))"
   ]
  },
  {
   "cell_type": "markdown",
   "metadata": {},
   "source": [
    "#### Task 6\n",
    "\n",
    "Handle potential errors that may occur, such as model errors or invalid inputs."
   ]
  }
 ],
 "metadata": {
  "kernelspec": {
   "display_name": "venv",
   "language": "python",
   "name": "python3"
  },
  "language_info": {
   "codemirror_mode": {
    "name": "ipython",
    "version": 3
   },
   "file_extension": ".py",
   "mimetype": "text/x-python",
   "name": "python",
   "nbconvert_exporter": "python",
   "pygments_lexer": "ipython3",
   "version": "3.12.3"
  }
 },
 "nbformat": 4,
 "nbformat_minor": 2
}
