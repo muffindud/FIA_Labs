{
 "cells": [
  {
   "cell_type": "markdown",
   "metadata": {},
   "source": [
    "***Fundamentals of Artificial Intelligence***\n",
    "\n",
    "> **Lab 6:** *Natural Language Processing and Chat Bots* <br>\n",
    "\n",
    "> **Performed by:** *Corneliu Catlabuga*, group *FAF-213* <br>\n",
    "\n",
    "> **Verified by:** Elena Graur, asist. univ."
   ]
  },
  {
   "cell_type": "markdown",
   "metadata": {},
   "source": [
    "#### Imports"
   ]
  },
  {
   "cell_type": "code",
   "execution_count": 263,
   "metadata": {},
   "outputs": [],
   "source": [
    "import os\n",
    "import pandas as pd\n",
    "from sklearn.model_selection import train_test_split\n",
    "import torch\n",
    "from torch import optim\n",
    "from torch.jit import script, trace\n",
    "from torch.utils.data import Dataset, DataLoader\n",
    "from torch.nn.utils.rnn import pad_sequence\n",
    "import torch.nn as nn\n",
    "import torch.nn.functional as F"
   ]
  },
  {
   "cell_type": "markdown",
   "metadata": {},
   "source": [
    "#### Task 1\n",
    "\n",
    "Set up the Telegram Bot. Interact with BotFather on Telegram to obtain an API token. Create your Telegram Bot (its name should follow the pattern FIA_Surname_Name_FAF_21x). Make sure you are able to receive and send requests to it.\n",
    "\n",
    "1. Bot link: [FIA_Catlabuga_Corneliu_FAF_213](https://t.me/FAFCatlabugaCorneliuFAF213bot)\n",
    "\n",
    "2. Run `app.py` to start the bot."
   ]
  },
  {
   "cell_type": "markdown",
   "metadata": {},
   "source": [
    "#### Task 2\n",
    "\n",
    "Create a dataset that will serve as a training set for your model. It should follow the rules:\n",
    "- an entry consists of two parts: the question and the answer;\n",
    "- there are at least 75 entries written by you in your dataset;\n",
    "- questions should be something tourists or locals can ask about a new city.\n",
    "\n",
    "You can increase your dataset by adding open-source data. However, you MUST clearly show the questions written by you. Split your dataset into train and validation.\n",
    "\n",
    "*Hint: it is recommended to split it into 80% and 20%, but you can adjust it according to your needs.*"
   ]
  },
  {
   "cell_type": "markdown",
   "metadata": {},
   "source": [
    "#### Dataset"
   ]
  },
  {
   "cell_type": "code",
   "execution_count": 264,
   "metadata": {},
   "outputs": [],
   "source": [
    "dataset = pd.read_csv('dataset.csv')"
   ]
  },
  {
   "cell_type": "markdown",
   "metadata": {},
   "source": [
    "#### Task 3\n",
    "\n",
    "Use Tensorflow or Pytorch to implement the architecture of the Neural Network you are planning to use. It is highly recommended to use a Seq2Seq model (implement an LSTM or GRU architecture). You are NOT allowed to use pre-built or existing solutions (yep, connecting to GPT will not work)."
   ]
  },
  {
   "cell_type": "code",
   "execution_count": 265,
   "metadata": {},
   "outputs": [],
   "source": [
    "def tokenize(sentance, vocabulary):\n",
    "    return [vocabulary.get(word, vocabulary['<UNK>']) for word in sentance.lower().split()]"
   ]
  },
  {
   "cell_type": "code",
   "execution_count": 266,
   "metadata": {},
   "outputs": [],
   "source": [
    "class ChatDataset(Dataset):\n",
    "    def __init__(self, questions, answers, vocabulary):\n",
    "        self.questions = [tokenize(question, vocabulary) for question in questions]\n",
    "        self.answers = [tokenize(answer, vocabulary) for answer in answers]\n",
    "        self.vocablulary = vocabulary\n",
    "\n",
    "    def __len__(self):\n",
    "        return len(self.questions)\n",
    "\n",
    "    def __getitem__(self, index):\n",
    "        return torch.tensor(self.questions[index]), torch.tensor(self.answers[index])"
   ]
  },
  {
   "cell_type": "code",
   "execution_count": 294,
   "metadata": {},
   "outputs": [],
   "source": [
    "train_data, validation_data = train_test_split(dataset, test_size=0.2)\n",
    "\n",
    "special_tokens = ['<PAD>', '<UNK>', '<SOS>', '<EOS>']\n",
    "# vocabulary = {'<PAD>': 0, '<UNK>': 1}\n",
    "vocabulary = {token: index for index, token in enumerate(special_tokens)}\n",
    "\n",
    "for sentance in pd.concat([dataset['question'], dataset['answer']]):\n",
    "    for word in sentance.lower().split():\n",
    "        if word not in vocabulary:\n",
    "            vocabulary[word] = len(vocabulary)\n",
    "\n",
    "vocab_reverse = {idx: word for word, idx in vocabulary.items()}"
   ]
  },
  {
   "cell_type": "code",
   "execution_count": 268,
   "metadata": {},
   "outputs": [],
   "source": [
    "def collate_fn(batch):\n",
    "    questions, answers = zip(*batch)\n",
    "\n",
    "    questions = pad_sequence(questions, batch_first=True, padding_value=vocabulary['<PAD>'])\n",
    "    answers = pad_sequence(answers, batch_first=True, padding_value=vocabulary['<PAD>'])\n",
    "\n",
    "    return questions, answers"
   ]
  },
  {
   "cell_type": "code",
   "execution_count": 269,
   "metadata": {},
   "outputs": [],
   "source": [
    "train_dataset = ChatDataset(train_data['question'], train_data['answer'], vocabulary)\n",
    "validation_dataset = ChatDataset(validation_data['question'], validation_data['answer'], vocabulary)\n",
    "\n",
    "train_loader = DataLoader(train_dataset, batch_size=32, shuffle=True, collate_fn=collate_fn)\n",
    "validation_loader = DataLoader(validation_dataset, batch_size=32, collate_fn=collate_fn)"
   ]
  },
  {
   "cell_type": "markdown",
   "metadata": {},
   "source": [
    "#### Task 4\n",
    "\n",
    "Train your model and fine-tune it based on the chosen performance metrics."
   ]
  },
  {
   "cell_type": "code",
   "execution_count": 270,
   "metadata": {},
   "outputs": [],
   "source": [
    "class Encoder(nn.Module):\n",
    "    def __init__(self, input_dimension, embedding_dimension, hidden_dimension):\n",
    "        super().__init__()\n",
    "        self.embedding = nn.Embedding(input_dimension, embedding_dimension)\n",
    "        self.rnn = nn.GRU(embedding_dimension, hidden_dimension, batch_first=True)\n",
    "        self.hidden_dimension = hidden_dimension\n",
    "\n",
    "    def forward(self, source):\n",
    "        embedded = self.embedding(source)\n",
    "        _, hidden = self.rnn(embedded)\n",
    "        return hidden"
   ]
  },
  {
   "cell_type": "code",
   "execution_count": 271,
   "metadata": {},
   "outputs": [],
   "source": [
    "class Decoder(nn.Module):\n",
    "    def __init__(self, output_dimension, embedding_dimension, hidden_dimension):\n",
    "        super().__init__()\n",
    "        self.embedding = nn.Embedding(output_dimension, embedding_dimension)\n",
    "        self.rnn = nn.GRU(embedding_dimension, hidden_dimension, batch_first=True)\n",
    "        self.fc_out = nn.Linear(hidden_dimension, output_dimension)\n",
    "\n",
    "    def forward(self, trigger, hidden):\n",
    "        embedded = self.embedding(trigger)\n",
    "        output, hidden = self.rnn(embedded, hidden)\n",
    "        predictions = self.fc_out(output)\n",
    "        return predictions, hidden"
   ]
  },
  {
   "cell_type": "code",
   "execution_count": 281,
   "metadata": {},
   "outputs": [],
   "source": [
    "input_dimension = len(vocabulary)\n",
    "output_dimension = len(vocabulary)\n",
    "embedding_dimension = 256\n",
    "hidden_diemnsion = 512\n",
    "learning_rate = 0.001\n",
    "batch_size = 32\n",
    "\n",
    "encoder = Encoder(input_dimension, embedding_dimension, hidden_diemnsion)\n",
    "decoder = Decoder(output_dimension, embedding_dimension, hidden_diemnsion)\n",
    "model = nn.ModuleList([encoder, decoder])\n",
    "\n",
    "criterion = nn.CrossEntropyLoss(ignore_index=vocabulary['<PAD>'])\n",
    "optimizer = optim.Adam(model.parameters(), lr=learning_rate)\n",
    "\n",
    "def train(epochs: int = 10, file_name: str = 'model.pth'):\n",
    "    encoder.train()\n",
    "    decoder.train()\n",
    "\n",
    "    for epoch in range(epochs):\n",
    "        epoch_loss = 0\n",
    "\n",
    "        for questions, answers in train_loader:\n",
    "            optimizer.zero_grad()\n",
    "            hidden = encoder(questions)  # Encoder output (hidden state)\n",
    "\n",
    "            input_seq = answers[:, :-1]  # Remove <EOS>\n",
    "            target_seq = answers[:, 1:]  # Shift for teacher forcing\n",
    "\n",
    "            batch_size, seq_len = target_seq.size()\n",
    "            outputs = torch.zeros(batch_size, seq_len, output_dimension)\n",
    "\n",
    "            dec_input = input_seq[:, 0].unsqueeze(1)  # Start with first token\n",
    "            for t in range(seq_len):\n",
    "                output, hidden = decoder(dec_input, hidden)\n",
    "                outputs[:, t, :] = output.squeeze(1)\n",
    "                dec_input = target_seq[:, t].unsqueeze(1)  # Teacher forcing\n",
    "\n",
    "            # outputs = outputs.view(-1, output_dimension)\n",
    "            # target_seq = target_seq.view(-1)\n",
    "            outputs = outputs.reshape(-1, output_dimension)\n",
    "            target_seq = target_seq.reshape(-1)\n",
    "            loss = criterion(outputs, target_seq)\n",
    "            loss.backward()\n",
    "            optimizer.step()\n",
    "\n",
    "            epoch_loss += loss.item()\n",
    "\n",
    "        print(f'Epoch {epoch+1}/{epochs}, Loss: {epoch_loss/len(train_loader):.4f}')\n",
    "\n",
    "    os.makedirs('models', exist_ok=True)\n",
    "    torch.save(encoder.state_dict(), f'models/enc_{file_name}')\n",
    "    torch.save(decoder.state_dict(), f'models/dec_{file_name}')"
   ]
  },
  {
   "cell_type": "code",
   "execution_count": null,
   "metadata": {},
   "outputs": [
    {
     "name": "stdout",
     "output_type": "stream",
     "text": [
      "Epoch 1/50, Loss: 0.0031\n",
      "Epoch 2/50, Loss: 0.0032\n",
      "Epoch 3/50, Loss: 0.0031\n",
      "Epoch 4/50, Loss: 0.0031\n",
      "Epoch 5/50, Loss: 0.0032\n",
      "Epoch 6/50, Loss: 0.0032\n",
      "Epoch 7/50, Loss: 0.0030\n",
      "Epoch 8/50, Loss: 0.0031\n",
      "Epoch 9/50, Loss: 0.0034\n",
      "Epoch 10/50, Loss: 0.0033\n",
      "Epoch 11/50, Loss: 0.0030\n",
      "Epoch 12/50, Loss: 0.0032\n",
      "Epoch 13/50, Loss: 0.0030\n",
      "Epoch 14/50, Loss: 0.0030\n",
      "Epoch 15/50, Loss: 0.0032\n",
      "Epoch 16/50, Loss: 0.0030\n",
      "Epoch 17/50, Loss: 0.0033\n",
      "Epoch 18/50, Loss: 0.0031\n",
      "Epoch 19/50, Loss: 0.0031\n",
      "Epoch 20/50, Loss: 0.0029\n",
      "Epoch 21/50, Loss: 0.0030\n",
      "Epoch 22/50, Loss: 0.0032\n",
      "Epoch 23/50, Loss: 0.0033\n",
      "Epoch 24/50, Loss: 0.0033\n",
      "Epoch 25/50, Loss: 0.0031\n",
      "Epoch 26/50, Loss: 0.0031\n",
      "Epoch 27/50, Loss: 0.0032\n",
      "Epoch 28/50, Loss: 0.0031\n",
      "Epoch 29/50, Loss: 0.0031\n",
      "Epoch 30/50, Loss: 0.0032\n",
      "Epoch 31/50, Loss: 0.0031\n",
      "Epoch 32/50, Loss: 0.0033\n",
      "Epoch 33/50, Loss: 0.0031\n",
      "Epoch 34/50, Loss: 0.0030\n",
      "Epoch 35/50, Loss: 0.0030\n",
      "Epoch 36/50, Loss: 0.0031\n",
      "Epoch 37/50, Loss: 0.0033\n",
      "Epoch 38/50, Loss: 0.0035\n",
      "Epoch 39/50, Loss: 0.0032\n",
      "Epoch 40/50, Loss: 0.0032\n",
      "Epoch 41/50, Loss: 0.0034\n",
      "Epoch 42/50, Loss: 0.0032\n",
      "Epoch 43/50, Loss: 0.0033\n",
      "Epoch 44/50, Loss: 0.0031\n",
      "Epoch 45/50, Loss: 0.0030\n",
      "Epoch 46/50, Loss: 0.0033\n",
      "Epoch 47/50, Loss: 0.0030\n",
      "Epoch 48/50, Loss: 0.0031\n",
      "Epoch 49/50, Loss: 0.0031\n",
      "Epoch 50/50, Loss: 0.0031\n"
     ]
    }
   ],
   "source": [
    "train(10, 'm10.pth')\n",
    "train(20, 'm20.pth')\n",
    "train(50, 'm50.pth')\n",
    "# train(100, 'm100.pth')\n",
    "# train(300, 'm300.pth')\n",
    "# train(1000, 'm1000.pth')"
   ]
  },
  {
   "cell_type": "markdown",
   "metadata": {},
   "source": [
    "#### Task 5\n",
    "\n",
    "Integrate your model into your Telegram ChatBot, so that the sent messages are taken as input by the model and its output is sent back as a reply."
   ]
  },
  {
   "cell_type": "code",
   "execution_count": 288,
   "metadata": {},
   "outputs": [],
   "source": [
    "def preprocess_question(question, vocab):\n",
    "    \"\"\"\n",
    "    Tokenizes and numericalizes a question using the vocabulary.\n",
    "    \"\"\"\n",
    "    tokens = question.lower().split()\n",
    "    indices = [vocab.get(token, vocab['<UNK>']) for token in tokens]\n",
    "    return torch.tensor([indices], dtype=torch.long)"
   ]
  },
  {
   "cell_type": "code",
   "execution_count": 327,
   "metadata": {},
   "outputs": [],
   "source": [
    "def respond(question, encoder, decoder, vocab, vocab_reverse, max_len=20):\n",
    "    # Preprocess the question\n",
    "    question_tensor = preprocess_question(question, vocab)\n",
    "\n",
    "    # Encode the question\n",
    "    hidden = encoder(question_tensor)\n",
    "\n",
    "    # Prepare to decode\n",
    "    input_token = torch.tensor([[vocab['<SOS>']]])\n",
    "    output_indices = []\n",
    "\n",
    "    # Decode one token at a time\n",
    "    for _ in range(max_len):\n",
    "        output, hidden = decoder(input_token, hidden)\n",
    "        next_token = output.argmax(2).item()  # Pick the most probable token\n",
    "        output_indices.append(next_token)\n",
    "\n",
    "        if next_token == vocab['<EOS>']:  # Stop at <EOS> token\n",
    "            break\n",
    "        input_token = torch.tensor([[next_token]])\n",
    "\n",
    "    # Convert indices back to tokens, excluding padding and EOS\n",
    "    response = ' '.join([vocab_reverse[idx] for idx in output_indices if idx not in {vocab['<PAD>'], vocab['<EOS>']}])\n",
    "    return response"
   ]
  },
  {
   "cell_type": "code",
   "execution_count": 328,
   "metadata": {},
   "outputs": [
    {
     "name": "stderr",
     "output_type": "stream",
     "text": [
      "/tmp/ipykernel_14850/2264984202.py:5: FutureWarning: You are using `torch.load` with `weights_only=False` (the current default value), which uses the default pickle module implicitly. It is possible to construct malicious pickle data which will execute arbitrary code during unpickling (See https://github.com/pytorch/pytorch/blob/main/SECURITY.md#untrusted-models for more details). In a future release, the default value for `weights_only` will be flipped to `True`. This limits the functions that could be executed during unpickling. Arbitrary objects will no longer be allowed to be loaded via this mode unless they are explicitly allowlisted by the user via `torch.serialization.add_safe_globals`. We recommend you start setting `weights_only=True` for any use case where you don't have full control of the loaded file. Please open an issue on GitHub for any issues related to this experimental feature.\n",
      "  encoder.load_state_dict(torch.load(f'models/enc_m{m}.pth'))\n",
      "/tmp/ipykernel_14850/2264984202.py:6: FutureWarning: You are using `torch.load` with `weights_only=False` (the current default value), which uses the default pickle module implicitly. It is possible to construct malicious pickle data which will execute arbitrary code during unpickling (See https://github.com/pytorch/pytorch/blob/main/SECURITY.md#untrusted-models for more details). In a future release, the default value for `weights_only` will be flipped to `True`. This limits the functions that could be executed during unpickling. Arbitrary objects will no longer be allowed to be loaded via this mode unless they are explicitly allowlisted by the user via `torch.serialization.add_safe_globals`. We recommend you start setting `weights_only=True` for any use case where you don't have full control of the loaded file. Please open an issue on GitHub for any issues related to this experimental feature.\n",
      "  decoder.load_state_dict(torch.load(f'models/dec_m{m}.pth'))\n"
     ]
    },
    {
     "data": {
      "text/plain": [
       "'to restaurant marf yes venood much marf hub, or do get pizza area herbs all cost? has has has has'"
      ]
     },
     "metadata": {},
     "output_type": "display_data"
    }
   ],
   "source": [
    "m = '50'\n",
    "\n",
    "encoder = Encoder(input_dimension, embedding_dimension, hidden_diemnsion)\n",
    "decoder = Decoder(output_dimension, embedding_dimension, hidden_diemnsion)\n",
    "encoder.load_state_dict(torch.load(f'models/enc_m{m}.pth'))\n",
    "decoder.load_state_dict(torch.load(f'models/dec_m{m}.pth'))\n",
    "\n",
    "response = respond(\n",
    "    \"Where can I find Martia restaurant?\",\n",
    "    encoder,\n",
    "    decoder,\n",
    "    vocabulary,\n",
    "    vocab_reverse\n",
    ")\n",
    "\n",
    "display(response)"
   ]
  },
  {
   "cell_type": "markdown",
   "metadata": {},
   "source": [
    "#### Task 6\n",
    "\n",
    "Handle potential errors that may occur, such as model errors or invalid inputs."
   ]
  }
 ],
 "metadata": {
  "kernelspec": {
   "display_name": "venv",
   "language": "python",
   "name": "python3"
  },
  "language_info": {
   "codemirror_mode": {
    "name": "ipython",
    "version": 3
   },
   "file_extension": ".py",
   "mimetype": "text/x-python",
   "name": "python",
   "nbconvert_exporter": "python",
   "pygments_lexer": "ipython3",
   "version": "3.12.3"
  }
 },
 "nbformat": 4,
 "nbformat_minor": 2
}
